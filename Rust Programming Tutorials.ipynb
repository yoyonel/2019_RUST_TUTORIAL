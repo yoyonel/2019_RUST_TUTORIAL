{
 "cells": [
  {
   "cell_type": "markdown",
   "metadata": {},
   "source": [
    "# Rust Programming Tutorial\n",
    "\n",
    "https://www.youtube.com/watch?v=vOMJlQ5B-M0&list=PLVvjrrRCBy2JSHf9tGxGKJ-bYAN_uDCUL"
   ]
  },
  {
   "cell_type": "markdown",
   "metadata": {},
   "source": [
    "# Hello World"
   ]
  },
  {
   "cell_type": "code",
   "execution_count": 8,
   "metadata": {},
   "outputs": [
    {
     "name": "stdout",
     "output_type": "stream",
     "text": [
      "Hello World!\n"
     ]
    },
    {
     "data": {
      "text/plain": [
       "()"
      ]
     },
     "execution_count": 8,
     "metadata": {},
     "output_type": "execute_result"
    }
   ],
   "source": [
    "pub fn main() {\n",
    "    println!(\"Hello World!\");\n",
    "}\n",
    "\n",
    "main()"
   ]
  },
  {
   "cell_type": "markdown",
   "metadata": {},
   "source": [
    "# Variables, Mutable"
   ]
  },
  {
   "cell_type": "code",
   "execution_count": 17,
   "metadata": {},
   "outputs": [
    {
     "name": "stdout",
     "output_type": "stream",
     "text": [
      "The value of x is 45\n",
      "The value of x_mut is 42\n",
      "The value of x_mut is 45\n"
     ]
    },
    {
     "data": {
      "text/plain": [
       "()"
      ]
     },
     "execution_count": 17,
     "metadata": {},
     "output_type": "execute_result"
    }
   ],
   "source": [
    "pub fn main() {\n",
    "    let x = 45;\n",
    "    println!(\"The value of x is {}\", x);\n",
    "    \n",
    "//     x = 42; // <= error: cannot assign twice to immutable variable `x`\n",
    "//     println!(\"The value of x is {}\", x);\n",
    "    \n",
    "    let mut x_mut = 42;\n",
    "    println!(\"The value of x_mut is {}\", x_mut);\n",
    "    x_mut = 45;\n",
    "    println!(\"The value of x_mut is {}\", x_mut);\n",
    "}\n",
    "\n",
    "main()"
   ]
  },
  {
   "cell_type": "markdown",
   "metadata": {},
   "source": [
    "# Variable Data Types"
   ]
  },
  {
   "cell_type": "code",
   "execution_count": 24,
   "metadata": {},
   "outputs": [
    {
     "name": "stdout",
     "output_type": "stream",
     "text": [
      "The value of x_i64 is 45\n",
      "The value of x_u64 is 42\n",
      "The value of x_f32 is 3.14159\n",
      "The value of b is true\n"
     ]
    },
    {
     "data": {
      "text/plain": [
       "()"
      ]
     },
     "execution_count": 24,
     "metadata": {},
     "output_type": "execute_result"
    }
   ],
   "source": [
    "pub fn main() {\n",
    "    let x_i64: i64 = 45; // 64 bits integer\n",
    "    println!(\"The value of x_i64 is {}\", x_i64);\n",
    "    \n",
    "    let mut x_u64: u64 = 42; // 64 bits unsigned integer\n",
    "    println!(\"The value of x_u64 is {}\", x_u64);\n",
    "    \n",
    "//     x_u64 = -5; // error: cannot apply unary operator `-` to type `u64`\n",
    "    \n",
    "    let x_f32: f32 = 3.14159; // 32 bits float\n",
    "    println!(\"The value of x_f32 is {}\", x_f32);\n",
    "    \n",
    "    let b: bool = true;\n",
    "    println!(\"The value of b is {}\", b);\n",
    "}\n",
    "\n",
    "main()"
   ]
  },
  {
   "cell_type": "markdown",
   "metadata": {},
   "source": [
    "# If Else Statements"
   ]
  },
  {
   "cell_type": "code",
   "execution_count": 25,
   "metadata": {},
   "outputs": [
    {
     "name": "stdout",
     "output_type": "stream",
     "text": [
      "n is equal or greater than 42!\n"
     ]
    },
    {
     "data": {
      "text/plain": [
       "()"
      ]
     },
     "execution_count": 25,
     "metadata": {},
     "output_type": "execute_result"
    }
   ],
   "source": [
    "pub fn main() {\n",
    "    let n = 42;\n",
    "    \n",
    "    if n < 42 {\n",
    "        println!(\"n is under 42!\")\n",
    "    }\n",
    "    else {\n",
    "        println!(\"n is equal or greater than 42!\")\n",
    "    }\n",
    "}\n",
    "\n",
    "main()"
   ]
  },
  {
   "cell_type": "markdown",
   "metadata": {},
   "source": [
    "# Infinite loop"
   ]
  },
  {
   "cell_type": "code",
   "execution_count": 5,
   "metadata": {},
   "outputs": [
    {
     "name": "stdout",
     "output_type": "stream",
     "text": [
      "The value of n is 1\n",
      "The value of n is 2\n",
      "The value of n is 3\n",
      "The value of n is 4\n",
      "The value of n is 6\n",
      "The value of n is 7\n",
      "The value of n is 8\n",
      "The value of n is 9\n",
      "The value of n is 10\n"
     ]
    },
    {
     "data": {
      "text/plain": [
       "()"
      ]
     },
     "execution_count": 5,
     "metadata": {},
     "output_type": "execute_result"
    }
   ],
   "source": [
    "pub fn main() {\n",
    "    let mut n = 0;\n",
    "    \n",
    "    loop {\n",
    "        n += 1;\n",
    "        \n",
    "        // skip n == 6\n",
    "        if n == 5 {\n",
    "            continue;\n",
    "        }\n",
    "        \n",
    "        // break/exit when n > 10 (== 11)\n",
    "        if n > 10 {\n",
    "            break;\n",
    "        }\n",
    "        \n",
    "        println!(\"The value of n is {}\", n);\n",
    "    }\n",
    "}\n",
    "\n",
    "main()"
   ]
  },
  {
   "cell_type": "markdown",
   "metadata": {},
   "source": [
    "# While loop"
   ]
  },
  {
   "cell_type": "code",
   "execution_count": 11,
   "metadata": {},
   "outputs": [
    {
     "name": "stdout",
     "output_type": "stream",
     "text": [
      "The value of n is 1\n",
      "The value of n is 2\n",
      "The value of n is 3\n",
      "The value of n is 4\n",
      "Fizz\n",
      "The value of n is 5\n",
      "The value of n is 6\n",
      "Buzz\n",
      "The value of n is 8\n",
      "The value of n is 9\n",
      "Fizz\n",
      "The value of n is 10\n",
      "The value of n is 11\n",
      "The value of n is 12\n",
      "The value of n is 13\n",
      "Buzz\n",
      "Fizz\n",
      "The value of n is 15\n",
      "The value of n is 16\n",
      "The value of n is 17\n",
      "The value of n is 18\n",
      "The value of n is 19\n",
      "Fizz\n",
      "The value of n is 20\n",
      "Buzz\n",
      "The value of n is 22\n",
      "The value of n is 23\n",
      "The value of n is 24\n",
      "Fizz\n",
      "The value of n is 25\n",
      "The value of n is 26\n",
      "The value of n is 27\n",
      "Buzz\n",
      "The value of n is 29\n",
      "Fizz\n",
      "The value of n is 30\n",
      "The value of n is 31\n",
      "The value of n is 32\n",
      "The value of n is 33\n",
      "The value of n is 34\n",
      "Fizz\n",
      "Buzz\n"
     ]
    },
    {
     "data": {
      "text/plain": [
       "()"
      ]
     },
     "execution_count": 11,
     "metadata": {},
     "output_type": "execute_result"
    }
   ],
   "source": [
    "pub fn main() {\n",
    "    let mut n = 0;\n",
    "    \n",
    "    while n <= 34 {\n",
    "        n += 1;\n",
    "        if n % 5 == 0 {\n",
    "            println!(\"Fizz\");\n",
    "        }\n",
    "        \n",
    "        if n % 7 == 0 {\n",
    "            println!(\"Buzz\");\n",
    "            continue;\n",
    "        }\n",
    "        \n",
    "        println!(\"The value of n is {}\", n);\n",
    "    }\n",
    "}\n",
    "\n",
    "main()"
   ]
  },
  {
   "cell_type": "markdown",
   "metadata": {},
   "source": [
    "# For loop"
   ]
  },
  {
   "cell_type": "code",
   "execution_count": 20,
   "metadata": {},
   "outputs": [
    {
     "name": "stdout",
     "output_type": "stream",
     "text": [
      "The number is 1\n",
      "The number is 2\n",
      "The number is 3\n",
      "The number is 4\n",
      "The number is 1\n",
      "The number is 2\n",
      "The number is 3\n",
      "The number is 4\n",
      "The index is 0 and the animal name is Rabbit\n",
      "The index is 1 and the animal name is Dog\n",
      "The index is 2 and the animal name is Chicken\n"
     ]
    },
    {
     "data": {
      "text/plain": [
       "()"
      ]
     },
     "execution_count": 20,
     "metadata": {},
     "output_type": "execute_result"
    }
   ],
   "source": [
    "pub fn main() {\n",
    "    // not inclusive => [1, 4]\n",
    "    for i in 1..5 {\n",
    "        println!(\"The number is {}\", i);\n",
    "    }\n",
    "    \n",
    "    // range\n",
    "    let numbers = 1..5;\n",
    "    for i in numbers {\n",
    "        println!(\"The number is {}\", i);\n",
    "    }\n",
    "    \n",
    "    // vector\n",
    "    let animals = vec![\"Rabbit\", \"Dog\", \"Chicken\"];\n",
    "    for (i, animal) in animals.iter().enumerate() {\n",
    "        println!(\"The index is {} and the animal name is {}\", i, animal);\n",
    "    }\n",
    "}\n",
    "\n",
    "main()"
   ]
  },
  {
   "cell_type": "markdown",
   "metadata": {},
   "source": [
    "# Enum type"
   ]
  },
  {
   "cell_type": "code",
   "execution_count": 22,
   "metadata": {},
   "outputs": [
    {
     "name": "stdout",
     "output_type": "stream",
     "text": [
      "Winter is coming!\n"
     ]
    },
    {
     "data": {
      "text/plain": [
       "()"
      ]
     },
     "execution_count": 22,
     "metadata": {},
     "output_type": "execute_result"
    }
   ],
   "source": [
    "pub enum Season {\n",
    "    Winter,\n",
    "    Spring,\n",
    "    Summer,\n",
    "    Autumn\n",
    "}\n",
    "\n",
    "pub fn main() {\n",
    "    let current_season: Season = Season::Winter;\n",
    "    \n",
    "    match current_season {\n",
    "        Season::Winter => println!(\"Winter is coming!\"),\n",
    "        Season::Spring => println!(\"Spring break!\"),\n",
    "        Season::Summer => println!(\"Summer time!\"),\n",
    "        Season::Autumn => println!(\"Autumn leaves!\")\n",
    "    }\n",
    "}\n",
    "\n",
    "main()"
   ]
  },
  {
   "cell_type": "markdown",
   "metadata": {},
   "source": [
    "# Constants"
   ]
  },
  {
   "cell_type": "code",
   "execution_count": 29,
   "metadata": {},
   "outputs": [
    {
     "name": "stdout",
     "output_type": "stream",
     "text": [
      "PI=3.14159\n"
     ]
    },
    {
     "data": {
      "text/plain": [
       "()"
      ]
     },
     "execution_count": 29,
     "metadata": {},
     "output_type": "execute_result"
    }
   ],
   "source": [
    "pub const PI: f64 = 3.14159;\n",
    "\n",
    "pub fn main() {\n",
    "    println!(\"PI={}\", PI);\n",
    "    \n",
    "//     PI = 3.1; // error: invalid left-hand side expression\n",
    "}\n",
    "\n",
    "main()"
   ]
  },
  {
   "cell_type": "markdown",
   "metadata": {},
   "source": [
    "# Tuples"
   ]
  },
  {
   "cell_type": "code",
   "execution_count": 40,
   "metadata": {},
   "outputs": [
    {
     "name": "stdout",
     "output_type": "stream",
     "text": [
      "30\n",
      "Hello\n",
      "7\n",
      "a=1, b=4, c=7\n"
     ]
    },
    {
     "data": {
      "text/plain": [
       "()"
      ]
     },
     "execution_count": 40,
     "metadata": {},
     "output_type": "execute_result"
    }
   ],
   "source": [
    "pub fn main() {\n",
    "    // tuple declaration\n",
    "    let tup1 = (20, 25, 30, 35);\n",
    "    // tuple access\n",
    "    println!(\"{}\", tup1.2); // => 30\n",
    "    \n",
    "    let tup2 = (20, \"Hello\", 3.14159, true);\n",
    "    println!(\"{}\", tup2.1); // => \"Hello\"\n",
    "    \n",
    "    // nested tuples\n",
    "    let tup3 = (20, \"Hello\", 3.14159, (1, 4, 7));\n",
    "    println!(\"{}\", (tup3.3).2); // => 7\n",
    "    \n",
    "    // destructing assigmnents\n",
    "    let tup4 = (1, 4, 7);\n",
    "    let (a, b, c) = tup4;\n",
    "    println!(\"a={}, b={}, c={}\", a, b, c);\n",
    "}\n",
    "\n",
    "main()"
   ]
  },
  {
   "cell_type": "markdown",
   "metadata": {},
   "source": [
    "# Functions"
   ]
  },
  {
   "cell_type": "code",
   "execution_count": 46,
   "metadata": {},
   "outputs": [
    {
     "name": "stdout",
     "output_type": "stream",
     "text": [
      "1 is odd\n",
      "2 is even\n",
      "3 is odd\n",
      "4 is even\n",
      "5 is odd\n",
      "6 is even\n",
      "7 is odd\n",
      "8 is even\n",
      "9 is odd\n"
     ]
    },
    {
     "data": {
      "text/plain": [
       "()"
      ]
     },
     "execution_count": 46,
     "metadata": {},
     "output_type": "execute_result"
    }
   ],
   "source": [
    "pub fn main() {\n",
    "    print_numbers_to(10);\n",
    "}\n",
    "\n",
    "pub fn print_numbers_to(num: u32) {\n",
    "    for i in 1..num {\n",
    "        if is_odd(i) {\n",
    "            println!(\"{} is odd\", i);\n",
    "        }\n",
    "        else {\n",
    "            println!(\"{} is even\", i);\n",
    "        }\n",
    "    }\n",
    "}\n",
    "\n",
    "pub fn is_odd(num: u32) -> bool {\n",
    "    return (num % 2) == 1;\n",
    "}\n",
    "\n",
    "main()"
   ]
  },
  {
   "cell_type": "markdown",
   "metadata": {},
   "source": [
    "# Code Blocks + Shadowing"
   ]
  },
  {
   "cell_type": "code",
   "execution_count": 48,
   "metadata": {},
   "outputs": [
    {
     "name": "stdout",
     "output_type": "stream",
     "text": [
      "x=5\n",
      "x=6\n",
      "x=5\n",
      "x=salut\n",
      "x=true\n"
     ]
    },
    {
     "data": {
      "text/plain": [
       "()"
      ]
     },
     "execution_count": 48,
     "metadata": {},
     "output_type": "execute_result"
    }
   ],
   "source": [
    "pub fn main() {\n",
    "    let x = 5;\n",
    "    println!(\"x={}\", x);    \n",
    "    {\n",
    "        let x = 6;\n",
    "        println!(\"x={}\", x);\n",
    "    }    \n",
    "    println!(\"x={}\", x);\n",
    "    \n",
    "    let x = \"salut\";\n",
    "    println!(\"x={}\", x);\n",
    "    \n",
    "    let x = true;\n",
    "    println!(\"x={}\", x);\n",
    "}\n",
    "\n",
    "main()"
   ]
  },
  {
   "cell_type": "markdown",
   "metadata": {},
   "source": [
    "# References\n",
    "\n",
    "https://doc.rust-lang.org/1.8.0/book/references-and-borrowing.html\n",
    "> The Rules\n",
    "> - one or more references (&T) to a resource,\n",
    "> - exactly one mutable reference (&mut T)."
   ]
  },
  {
   "cell_type": "code",
   "execution_count": 63,
   "metadata": {},
   "outputs": [
    {
     "name": "stdout",
     "output_type": "stream",
     "text": [
      "x = 10\n",
      "x = 10 - xref = 10\n",
      "x = 11\n"
     ]
    },
    {
     "data": {
      "text/plain": [
       "()"
      ]
     },
     "execution_count": 63,
     "metadata": {},
     "output_type": "execute_result"
    }
   ],
   "source": [
    "pub fn main() {\n",
    "    let mut x = 10;\n",
    "    println!(\"x = {}\", x);\n",
    "\n",
    "    // immutable reference\n",
    "    {\n",
    "        let xref = &x;    \n",
    "        println!(\"x = {} - xref = {}\", x, xref);    \n",
    "    }\n",
    "    \n",
    "    // mutable reference need to be in a block\n",
    "    {\n",
    "        let xref_mut = &mut x;\n",
    "        *xref_mut += 1;    \n",
    "    }\n",
    "    println!(\"x = {}\", x);\n",
    "}\n",
    "\n",
    "main()"
   ]
  },
  {
   "cell_type": "markdown",
   "metadata": {},
   "source": [
    "# Struct, Tuple Struct"
   ]
  },
  {
   "cell_type": "code",
   "execution_count": null,
   "metadata": {},
   "outputs": [],
   "source": [
    "pub struct Color {\n",
    "    red: u8,\n",
    "    green: u8,\n",
    "    blue: u8,\n",
    "}\n",
    "\n",
    "pub fn main() {\n",
    "    bg_imut: Color { red=355, green=70, blue=15};\n",
    "    println!(\"{}, {}, {}\", bg_imut.red, bg_imut.green, bg_imut.blue);\n",
    "}\n",
    "\n",
    "main()"
   ]
  }
 ],
 "metadata": {
  "kernelspec": {
   "display_name": "Rust",
   "language": "rust",
   "name": "rust"
  },
  "language_info": {
   "codemirror_mode": "rust",
   "file_extension": ".rs",
   "mimetype": "text/rust",
   "name": "Rust",
   "pygment_lexer": "rust",
   "version": ""
  }
 },
 "nbformat": 4,
 "nbformat_minor": 2
}
