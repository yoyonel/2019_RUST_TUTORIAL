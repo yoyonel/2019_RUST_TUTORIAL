{
 "cells": [
  {
   "cell_type": "markdown",
   "metadata": {},
   "source": [
    "# Installation\n",
    "\n",
    "## Rust\n",
    "\n",
    "https://www.rust-lang.org/tools/install\n",
    "\n",
    "```sh\n",
    "curl https://sh.rustup.rs -sSf | sh\n",
    "```\n",
    "\n",
    "=> Configuring the PATH environment variable:\n",
    "```sh\n",
    "➜  __RUST__ head ~/.zshrc\n",
    "# Path to your oh-my-zsh installation.\n",
    "export ZSH=\"/home/latty/.oh-my-zsh\"\n",
    "\n",
    "# RUST\n",
    "export PATH=\"$HOME/.cargo/bin:$PATH\"\n",
    "```\n",
    "\n",
    "## EvCxR Jupyter Kernel\n",
    "\n",
    "https://github.com/google/evcxr/tree/master/evcxr_jupyter\n",
    "\n",
    "```sh\n",
    "sudo apt install libzmq3-dev jupyter-notebook\n",
    "cargo install evcxr_jupyter\n",
    "evcxr_jupyter --install\n",
    "```\n",
    "\n",
    "# Running\n",
    "\n",
    "Just launching jupyter-notebook server:\n",
    "```sh\n",
    "➜  __RUST__ jupyter-notebook\n",
    "[I 17:16:27.158 NotebookApp] Serving notebooks from local directory: /home/latty/Prog/__RUST__\n",
    "[I 17:16:27.158 NotebookApp] The Jupyter Notebook is running at:\n",
    "[I 17:16:27.158 NotebookApp] http://localhost:8888/?token=\n",
    "[I 17:16:27.159 NotebookApp] Use Control-C to stop this server and shut down all kernels (twice to skip confirmation).\n",
    "[C 17:16:27.184 NotebookApp]\n",
    "\n",
    "    To access the notebook, open this file in a browser:\n",
    "        file:///home/latty/.local/share/jupyter/runtime/nbserver-7906-open.html\n",
    "    Or copy and paste one of these URLs:\n",
    "        http://localhost:8888/?token=\n",
    "```\n",
    "\n",
    "A new kernel 'Rust' is available !"
   ]
  }
 ],
 "metadata": {
  "kernelspec": {
   "display_name": "Rust",
   "language": "rust",
   "name": "rust"
  },
  "language_info": {
   "codemirror_mode": "rust",
   "file_extension": ".rs",
   "mimetype": "text/rust",
   "name": "Rust",
   "pygment_lexer": "rust",
   "version": ""
  }
 },
 "nbformat": 4,
 "nbformat_minor": 2
}
